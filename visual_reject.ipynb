{
 "cells": [
  {
   "cell_type": "code",
   "execution_count": 1,
   "metadata": {},
   "outputs": [],
   "source": [
    "import os\n",
    "os.environ[\"CUDA_VISIBLE_DEVICES\"] = \"0\""
   ]
  },
  {
   "cell_type": "code",
   "execution_count": 2,
   "metadata": {},
   "outputs": [
    {
     "name": "stderr",
     "output_type": "stream",
     "text": [
      "/home/lyx/miniconda3/envs/PlayGround/lib/python3.10/site-packages/tqdm/auto.py:21: TqdmWarning: IProgress not found. Please update jupyter and ipywidgets. See https://ipywidgets.readthedocs.io/en/stable/user_install.html\n",
      "  from .autonotebook import tqdm as notebook_tqdm\n",
      "Loading checkpoint shards: 100%|██████████| 4/4 [00:08<00:00,  2.20s/it]\n"
     ]
    }
   ],
   "source": [
    "import torch\n",
    "from transformers import AutoModelForCausalLM, AutoTokenizer\n",
    "\n",
    "# args\n",
    "checkpoint = \"meta-llama/Meta-Llama-3.1-8B-Instruct\"\n",
    "# checkpoint = \"neuralmagic/Meta-Llama-3.1-70B-Instruct-FP8\"\n",
    "assistant_checkpoint = \"meta-llama/Llama-3.2-1B-Instruct\"\n",
    "device = \"cuda\" if torch.cuda.is_available() else \"cpu\"\n",
    "\n",
    "# model\n",
    "tokenizer = AutoTokenizer.from_pretrained(checkpoint)\n",
    "model = AutoModelForCausalLM.from_pretrained(checkpoint, device_map='auto')\n",
    "assistant_model = AutoModelForCausalLM.from_pretrained(assistant_checkpoint, device_map='auto')\n",
    "\n",
    "# overwrite _assisted_decoding\n",
    "import types\n",
    "from generation_utils import assisted_decoding\n",
    "model._assisted_decoding = types.MethodType(assisted_decoding, model)"
   ]
  },
  {
   "cell_type": "code",
   "execution_count": null,
   "metadata": {},
   "outputs": [
    {
     "data": {
      "text/html": [
       "<span style='color: orange; font-size: 16px;'>To find out how much Weng earned, we need to</span><span style='color: gray; font-size: 16px; text-decoration: line-through;'> multiply the number of hours she worked (</span><span style='color: black; font-size: 16px;'> first</span><span style='color: orange; font-size: 16px;'> convert the</span><span style='color: gray; font-size: 16px; text-decoration: line-through;'> 50 minutes into hours. \n",
       "\n",
       "There are 60 minutes in an hour, so </span><span style='color: black; font-size: 16px;'> time</span><span style='color: orange; font-size: 16px;'> from minutes to hours</span><span style='color: gray; font-size: 16px; text-decoration: line-through;'>. \n",
       "\n",
       "There are 60 minutes in an hour, so 50 minutes is</span><span style='color: black; font-size: 16px;'>,</span><span style='color: orange; font-size: 16px;'> since her hourly</span><span style='color: gray; font-size: 16px; text-decoration: line-through;'> wage is given in dollars per hour. \n",
       "\n",
       "There are 60 minutes in an hour</span><span style='color: black; font-size: 16px;'> rate</span><span style='color: orange; font-size: 16px;'> is given in dollars per hour. \n",
       "\n",
       "</span><span style='color: gray; font-size: 16px; text-decoration: line-through;'>There are 60 minutes in an hour, so 50</span><span style='color: black; font-size: 16px;'>1</span><span style='color: orange; font-size: 16px;'> hour = 60 minutes\n",
       "50 minutes = 50 / 60</span><span style='color: gray; font-size: 16px; text-decoration: line-through;'> = 5/6 hours</span><span style='color: black; font-size: 16px;'> hours</span><span style='color: orange; font-size: 16px;'></span><span style='color: gray; font-size: 16px; text-decoration: line-through;'> = 5/6 hours\n",
       "\n",
       "Now, multiply</span><span style='color: black; font-size: 16px;'>\n",
       "</span><span style='color: orange; font-size: 16px;'>50 minutes = 5/6 hour</span><span style='color: gray; font-size: 16px; text-decoration: line-through;'></span><span style='color: black; font-size: 16px;'>\n",
       "\n",
       "</span><span style='color: orange; font-size: 16px;'>Now, we multiply</span><span style='color: gray; font-size: 16px; text-decoration: line-through;'></span><span style='color: black; font-size: 16px;'> the</span><span style='color: orange; font-size: 16px;'></span><span style='color: gray; font-size: 16px; text-decoration: line-through;'> number of hours by the</span><span style='color: black; font-size: 16px;'> time</span><span style='color: orange; font-size: 16px;'></span><span style='color: gray; font-size: 16px; text-decoration: line-through;'> in hours by W</span><span style='color: black; font-size: 16px;'> worked</span><span style='color: orange; font-size: 16px;'> in hours by</span><span style='color: gray; font-size: 16px; text-decoration: line-through;'> her hourly rate:\n",
       "\n",
       "</span><span style='color: black; font-size: 16px;'> the</span><span style='color: orange; font-size: 16px;'> hourly</span><span style='color: gray; font-size: 16px; text-decoration: line-through;'> wage</span><span style='color: black; font-size: 16px;'> rate</span><span style='color: orange; font-size: 16px;'></span><span style='color: gray; font-size: 16px; text-decoration: line-through;'>:\n",
       "\n",
       "</span><span style='color: black; font-size: 16px;'> to</span><span style='color: orange; font-size: 16px;'> find</span><span style='color: gray; font-size: 16px; text-decoration: line-through;'> her</span><span style='color: black; font-size: 16px;'> the</span><span style='color: orange; font-size: 16px;'> total earnings</span><span style='color: gray; font-size: 16px; text-decoration: line-through;'>:\n",
       "\n",
       "$</span><span style='color: black; font-size: 16px;'>.\n",
       "</span><span style='color: orange; font-size: 16px;'>W</span><span style='color: gray; font-size: 16px; text-decoration: line-through;'></span><span style='color: black; font-size: 16px;'>eng</span><span style='color: orange; font-size: 16px;'>'s</span><span style='color: gray; font-size: 16px; text-decoration: line-through;'> earnings = (</span><span style='color: black; font-size: 16px;'> hourly</span><span style='color: orange; font-size: 16px;'> rate =</span><span style='color: gray; font-size: 16px; text-decoration: line-through;'></span><span style='color: black; font-size: 16px;'> $</span><span style='color: orange; font-size: 16px;'>12\n",
       "Time worked = 5/6 hour\n",
       "</span><span style='color: gray; font-size: 16px; text-decoration: line-through;'>Earnings = $</span><span style='color: black; font-size: 16px;'>Total</span><span style='color: orange; font-size: 16px;'> earnings =</span><span style='color: gray; font-size: 16px; text-decoration: line-through;'> </span><span style='color: black; font-size: 16px;'> Hour</span><span style='color: orange; font-size: 16px;'>ly rate * Time worked\n",
       "Total earnings = $12 * 5/6\n",
       "Total earnings =</span><span style='color: gray; font-size: 16px; text-decoration: line-through;'></span><span style='color: black; font-size: 16px;'> $</span><span style='color: orange; font-size: 16px;'>10\n",
       "\n",
       "So, Weng earned $</span><span style='color: gray; font-size: 16px; text-decoration: line-through;'></span><span style='color: black; font-size: 16px;'>10</span>"
      ],
      "text/plain": [
       "<IPython.core.display.HTML object>"
      ]
     },
     "metadata": {},
     "output_type": "display_data"
    }
   ],
   "source": [
    "\n",
    "# input\n",
    "messages = [\n",
    "    {'role': 'user', 'content': 'Answer step by step: Weng earns $12 an hour for babysitting. Yesterday, she just did 50 minutes of babysitting. How much did she earn?'},\n",
    "]\n",
    "prompt = tokenizer.apply_chat_template(messages, tokenize=False, add_generation_prompt=True)\n",
    "inputs = tokenizer(prompt, return_tensors=\"pt\").to(device)\n",
    "\n",
    "# generate output\n",
    "outputs = model.generate(**inputs, assistant_model=assistant_model,\n",
    "                         return_dict_in_generate=True, max_length=200,\n",
    "                         pad_token_id=tokenizer.eos_token_id)\n",
    "\n",
    "output, token_dict = outputs.sequences, outputs.token_dict\n",
    "# print(tokenizer.decode(output[0], skip_special_tokens=False))\n",
    "\n",
    "# highlight tokens\n",
    "def highlight_tokens(self, token_dict):\n",
    "    highlight_accept = lambda text: f\"<span style='color: orange;'>{text}</span>\"\n",
    "    highlight_reject = lambda text: f\"<span style='color: gray; text-decoration: line-through;'>{text}</span>\"\n",
    "\n",
    "    # Improved decode function that handles newlines correctly\n",
    "    def decode(token):\n",
    "        if len(token) == 0:\n",
    "            return \"\"\n",
    "        text = self.tokenizer.decode(token[0], skip_special_tokens=False)\n",
    "        # Replace newlines with HTML break tags\n",
    "        text = text.replace('\\n', '<br>')\n",
    "        return text\n",
    "\n",
    "    output_text = \"\"\n",
    "    for accept_tokens, reject_tokens, next_token in zip(\n",
    "        token_dict[\"accept_tokens\"], token_dict[\"reject_tokens\"], token_dict[\"next_token\"]):\n",
    "        output_text += highlight_accept(decode(accept_tokens))\n",
    "        output_text += highlight_reject(decode(reject_tokens))\n",
    "        output_text += decode(next_token)\n",
    "\n",
    "    # Wrap in a div with white-space: pre-wrap to preserve other whitespace\n",
    "    output_text = f\"<div style='white-space: pre-wrap;'>{output_text}</div>\"\n",
    "\n",
    "    return output_text\n",
    "\n",
    "text = highlight_tokens(token_dict)\n",
    "from IPython.display import display, HTML\n",
    "display(HTML(text))"
   ]
  },
  {
   "cell_type": "code",
   "execution_count": 6,
   "metadata": {},
   "outputs": [
    {
     "name": "stdout",
     "output_type": "stream",
     "text": [
      "<|begin_of_text|><|begin_of_text|><|start_header_id|>system<|end_header_id|>\n",
      "\n",
      "Cutting Knowledge Date: December 2023\n",
      "Today Date: 26 Jul 2024\n",
      "\n",
      "<|eot_id|><|start_header_id|>user<|end_header_id|>\n",
      "\n",
      "Answer step by step: Weng earns $12 an hour for babysitting. Yesterday, she just did 50 minutes of babysitting. How much did she earn?<|eot_id|><|start_header_id|>assistant<|end_header_id|>\n",
      "\n",
      "To find out how much Weng earned, we need to first convert the time from minutes to hours, since her hourly rate is given in dollars per hour. \n",
      "\n",
      "1 hour = 60 minutes\n",
      "50 minutes = 50 / 60 hours\n",
      "50 minutes = 5/6 hour\n",
      "\n",
      "Now, we multiply the time worked in hours by the hourly rate to find the total earnings.\n",
      "Weng's hourly rate = $12\n",
      "Time worked = 5/6 hour\n",
      "Total earnings = Hourly rate * Time worked\n",
      "Total earnings = $12 * 5/6\n",
      "Total earnings = $10\n",
      "\n",
      "So, Weng earned $10\n"
     ]
    }
   ],
   "source": [
    "print(tokenizer.decode(output[0], skip_special_tokens=False))"
   ]
  },
  {
   "cell_type": "code",
   "execution_count": 5,
   "metadata": {},
   "outputs": [
    {
     "name": "stdout",
     "output_type": "stream",
     "text": [
      "<span style='color: orange; font-size: 16px;'>To find out how much Weng earned, we need to</span><span style='color: gray; font-size: 16px; text-decoration: line-through;'> multiply the number of hours she worked (</span><span style='color: black; font-size: 16px;'> first</span><span style='color: orange; font-size: 16px;'> convert the</span><span style='color: gray; font-size: 16px; text-decoration: line-through;'> 50 minutes into hours. \n",
      "\n",
      "There are 60 minutes in an hour, so </span><span style='color: black; font-size: 16px;'> time</span><span style='color: orange; font-size: 16px;'> from minutes to hours</span><span style='color: gray; font-size: 16px; text-decoration: line-through;'>. \n",
      "\n",
      "There are 60 minutes in an hour, so 50 minutes is</span><span style='color: black; font-size: 16px;'>,</span><span style='color: orange; font-size: 16px;'> since her hourly</span><span style='color: gray; font-size: 16px; text-decoration: line-through;'> wage is given in dollars per hour. \n",
      "\n",
      "There are 60 minutes in an hour</span><span style='color: black; font-size: 16px;'> rate</span><span style='color: orange; font-size: 16px;'> is given in dollars per hour. \n",
      "\n",
      "</span><span style='color: gray; font-size: 16px; text-decoration: line-through;'>There are 60 minutes in an hour, so 50</span><span style='color: black; font-size: 16px;'>1</span><span style='color: orange; font-size: 16px;'> hour = 60 minutes\n",
      "50 minutes = 50 / 60</span><span style='color: gray; font-size: 16px; text-decoration: line-through;'> = 5/6 hours</span><span style='color: black; font-size: 16px;'> hours</span><span style='color: orange; font-size: 16px;'></span><span style='color: gray; font-size: 16px; text-decoration: line-through;'> = 5/6 hours\n",
      "\n",
      "Now, multiply</span><span style='color: black; font-size: 16px;'>\n",
      "</span><span style='color: orange; font-size: 16px;'>50 minutes = 5/6 hour</span><span style='color: gray; font-size: 16px; text-decoration: line-through;'></span><span style='color: black; font-size: 16px;'>\n",
      "\n",
      "</span><span style='color: orange; font-size: 16px;'>Now, we multiply</span><span style='color: gray; font-size: 16px; text-decoration: line-through;'></span><span style='color: black; font-size: 16px;'> the</span><span style='color: orange; font-size: 16px;'></span><span style='color: gray; font-size: 16px; text-decoration: line-through;'> number of hours by the</span><span style='color: black; font-size: 16px;'> time</span><span style='color: orange; font-size: 16px;'></span><span style='color: gray; font-size: 16px; text-decoration: line-through;'> in hours by W</span><span style='color: black; font-size: 16px;'> worked</span><span style='color: orange; font-size: 16px;'> in hours by</span><span style='color: gray; font-size: 16px; text-decoration: line-through;'> her hourly rate:\n",
      "\n",
      "</span><span style='color: black; font-size: 16px;'> the</span><span style='color: orange; font-size: 16px;'> hourly</span><span style='color: gray; font-size: 16px; text-decoration: line-through;'> wage</span><span style='color: black; font-size: 16px;'> rate</span><span style='color: orange; font-size: 16px;'></span><span style='color: gray; font-size: 16px; text-decoration: line-through;'>:\n",
      "\n",
      "</span><span style='color: black; font-size: 16px;'> to</span><span style='color: orange; font-size: 16px;'> find</span><span style='color: gray; font-size: 16px; text-decoration: line-through;'> her</span><span style='color: black; font-size: 16px;'> the</span><span style='color: orange; font-size: 16px;'> total earnings</span><span style='color: gray; font-size: 16px; text-decoration: line-through;'>:\n",
      "\n",
      "$</span><span style='color: black; font-size: 16px;'>.\n",
      "</span><span style='color: orange; font-size: 16px;'>W</span><span style='color: gray; font-size: 16px; text-decoration: line-through;'></span><span style='color: black; font-size: 16px;'>eng</span><span style='color: orange; font-size: 16px;'>'s</span><span style='color: gray; font-size: 16px; text-decoration: line-through;'> earnings = (</span><span style='color: black; font-size: 16px;'> hourly</span><span style='color: orange; font-size: 16px;'> rate =</span><span style='color: gray; font-size: 16px; text-decoration: line-through;'></span><span style='color: black; font-size: 16px;'> $</span><span style='color: orange; font-size: 16px;'>12\n",
      "Time worked = 5/6 hour\n",
      "</span><span style='color: gray; font-size: 16px; text-decoration: line-through;'>Earnings = $</span><span style='color: black; font-size: 16px;'>Total</span><span style='color: orange; font-size: 16px;'> earnings =</span><span style='color: gray; font-size: 16px; text-decoration: line-through;'> </span><span style='color: black; font-size: 16px;'> Hour</span><span style='color: orange; font-size: 16px;'>ly rate * Time worked\n",
      "Total earnings = $12 * 5/6\n",
      "Total earnings =</span><span style='color: gray; font-size: 16px; text-decoration: line-through;'></span><span style='color: black; font-size: 16px;'> $</span><span style='color: orange; font-size: 16px;'>10\n",
      "\n",
      "So, Weng earned $</span><span style='color: gray; font-size: 16px; text-decoration: line-through;'></span><span style='color: black; font-size: 16px;'>10</span>\n"
     ]
    }
   ],
   "source": [
    "print(text)"
   ]
  },
  {
   "cell_type": "code",
   "execution_count": null,
   "metadata": {},
   "outputs": [],
   "source": []
  }
 ],
 "metadata": {
  "kernelspec": {
   "display_name": "PlayGround",
   "language": "python",
   "name": "python3"
  },
  "language_info": {
   "codemirror_mode": {
    "name": "ipython",
    "version": 3
   },
   "file_extension": ".py",
   "mimetype": "text/x-python",
   "name": "python",
   "nbconvert_exporter": "python",
   "pygments_lexer": "ipython3",
   "version": "3.10.15"
  }
 },
 "nbformat": 4,
 "nbformat_minor": 2
}
